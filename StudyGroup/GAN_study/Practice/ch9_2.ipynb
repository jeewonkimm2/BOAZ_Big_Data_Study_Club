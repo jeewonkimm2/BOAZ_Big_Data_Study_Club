{
  "cells": [
    {
      "cell_type": "code",
      "execution_count": null,
      "metadata": {
        "id": "dDtEfy3nfyaz",
        "colab": {
          "base_uri": "https://localhost:8080/"
        },
        "outputId": "94fbb5f8-d0fc-4904-cccf-41d54f3ce7d7"
      },
      "outputs": [
        {
          "output_type": "stream",
          "name": "stdout",
          "text": [
            "Mounted at ./mount\n"
          ]
        }
      ],
      "source": [
        "# mount Drive to access data files\n",
        "\n",
        "from google.colab import drive\n",
        "drive.mount('./mount')"
      ]
    },
    {
      "cell_type": "code",
      "execution_count": null,
      "metadata": {
        "id": "uAH2h7tGf5X9"
      },
      "outputs": [],
      "source": [
        "# import libraries\n",
        "\n",
        "import torch\n",
        "import torch.nn as nn\n",
        "from torch.utils.data import Dataset\n",
        "\n",
        "import h5py\n",
        "import pandas, numpy, random\n",
        "import matplotlib.pyplot as plt"
      ]
    },
    {
      "cell_type": "code",
      "execution_count": null,
      "metadata": {
        "colab": {
          "base_uri": "https://localhost:8080/"
        },
        "id": "tNRgAYwof6DT",
        "outputId": "b4bed223-0a1b-460e-aa4f-1a7581065921"
      },
      "outputs": [
        {
          "output_type": "stream",
          "name": "stdout",
          "text": [
            "using cuda: Tesla T4\n"
          ]
        },
        {
          "output_type": "execute_result",
          "data": {
            "text/plain": [
              "device(type='cuda')"
            ]
          },
          "metadata": {},
          "execution_count": 3
        }
      ],
      "source": [
        "# check if CUDA is available\n",
        "# if yes, set default tensor type to cuda\n",
        "\n",
        "if torch.cuda.is_available():\n",
        "  torch.set_default_tensor_type(torch.cuda.FloatTensor)\n",
        "  print(\"using cuda:\", torch.cuda.get_device_name(0))\n",
        "  pass\n",
        "\n",
        "device = torch.device(\"cuda\" if torch.cuda.is_available() else \"cpu\")\n",
        "\n",
        "device"
      ]
    },
    {
      "cell_type": "code",
      "execution_count": null,
      "metadata": {
        "id": "-BrtsumCgK9R"
      },
      "outputs": [],
      "source": [
        "# functions to generate random data\n",
        "\n",
        "def generate_random_image(size):\n",
        "    random_data = torch.rand(size)\n",
        "    return random_data\n",
        "\n",
        "\n",
        "def generate_random_seed(size):\n",
        "    random_data = torch.randn(size)\n",
        "    return random_data"
      ]
    },
    {
      "cell_type": "code",
      "execution_count": null,
      "metadata": {
        "id": "Za-1aLM0gLrL"
      },
      "outputs": [],
      "source": [
        "# modified from https://github.com/pytorch/vision/issues/720\n",
        "\n",
        "class View(nn.Module):\n",
        "    def __init__(self, shape):\n",
        "        super().__init__()\n",
        "        self.shape = shape,\n",
        "\n",
        "    def forward(self, x):\n",
        "        return x.view(*self.shape)"
      ]
    },
    {
      "cell_type": "code",
      "execution_count": null,
      "metadata": {
        "id": "IewdGVyqgOSn"
      },
      "outputs": [],
      "source": [
        "# crop (numpy array) image to given width and height\n",
        "\n",
        "def crop_centre(img, new_width, new_height):\n",
        "  height, width, _ = img.shape\n",
        "  startx = width//2-new_width//2\n",
        "  starty = height//2 - new_height//2\n",
        "  return img[starty:starty+new_height, startx:startx+new_width, :]"
      ]
    },
    {
      "cell_type": "code",
      "execution_count": null,
      "metadata": {
        "id": "bUBzSl6hgoZI"
      },
      "outputs": [],
      "source": [
        "# dataset class\n",
        "\n",
        "class CelebADataset(Dataset):\n",
        "    \n",
        "    def __init__(self, file):\n",
        "        self.file_object = h5py.File(file, 'r')\n",
        "        self.dataset = self.file_object['img_align_celeba']\n",
        "        pass\n",
        "    \n",
        "    def __len__(self):\n",
        "        return len(self.dataset)\n",
        "    \n",
        "    def __getitem__(self, index):\n",
        "        if (index >= len(self.dataset)):\n",
        "          raise IndexError()\n",
        "        img = numpy.array(self.dataset[str(index)+'.jpg'])\n",
        "        # crop to 128x128 square\n",
        "        img = crop_centre(img, 128, 128)\n",
        "        return torch.cuda.FloatTensor(img).permute(2,0,1).view(1,3,128,128) / 255.0\n",
        "    \n",
        "    def plot_image(self, index):\n",
        "        img = numpy.array(self.dataset[str(index)+'.jpg'])\n",
        "        # crop to 128x128 square\n",
        "        img = crop_centre(img, 128, 128)\n",
        "        plt.imshow(img, interpolation='nearest')\n",
        "        pass\n",
        "    \n",
        "    pass"
      ]
    },
    {
      "cell_type": "code",
      "execution_count": null,
      "metadata": {
        "id": "5l4jpw5cgz4-"
      },
      "outputs": [],
      "source": [
        "# create Dataset object\n",
        "\n",
        "celeba_dataset = CelebADataset('/content/mount/MyDrive/Colab Notebooks/2022/여름방학/GAN첫걸음/myo_gan/celeba_dataset3/celeba_aligned_small.h5py')"
      ]
    },
    {
      "cell_type": "code",
      "execution_count": null,
      "metadata": {
        "colab": {
          "base_uri": "https://localhost:8080/",
          "height": 268
        },
        "id": "1R7nqVz7hFVx",
        "outputId": "b58861a8-f51d-4463-855e-96fce6feda84"
      },
      "outputs": [
        {
          "output_type": "display_data",
          "data": {
            "text/plain": [
              "<Figure size 432x288 with 1 Axes>"
            ],
            "image/png": "[encoded data removed]"
          },
          "metadata": {
            "needs_background": "light"
          }
        }
      ],
      "source": [
        "# check data contains images\n",
        "\n",
        "celeba_dataset.plot_image(43)"
      ]
    },
    {
      "cell_type": "code",
      "execution_count": null,
      "metadata": {
        "id": "XiW9uOtChRPE"
      },
      "outputs": [],
      "source": [
        "# discriminator class\n",
        "\n",
        "class Discriminator(nn.Module):\n",
        "    \n",
        "    def __init__(self):\n",
        "        # initialise parent pytorch class\n",
        "        super().__init__()\n",
        "        \n",
        "        # define neural network layers\n",
        "        self.model = nn.Sequential(\n",
        "            # expect input of shape (1,3,128,128)\n",
        "            nn.Conv2d(3, 256, kernel_size=8, stride=2),\n",
        "            nn.BatchNorm2d(256),\n",
        "            nn.GELU(),\n",
        "            \n",
        "            nn.Conv2d(256, 256, kernel_size=8, stride=2),\n",
        "            nn.BatchNorm2d(256),\n",
        "            nn.GELU(),\n",
        "            \n",
        "            nn.Conv2d(256, 3, kernel_size=8, stride=2),\n",
        "            nn.GELU(),\n",
        "            \n",
        "            View(3*10*10),\n",
        "            nn.Linear(3*10*10, 1),\n",
        "            nn.Sigmoid()\n",
        "        )\n",
        "        \n",
        "        # create loss function\n",
        "        self.loss_function = nn.BCELoss()\n",
        "\n",
        "        # create optimiser, simple stochastic gradient descent\n",
        "        self.optimiser = torch.optim.Adam(self.parameters(), lr=0.0001, capturable = True)\n",
        "\n",
        "        # counter and accumulator for progress\n",
        "        self.counter = 0;\n",
        "        self.progress = []\n",
        "\n",
        "        pass\n",
        "    \n",
        "    \n",
        "    def forward(self, inputs):\n",
        "        # simply run model\n",
        "        return self.model(inputs)\n",
        "    \n",
        "    \n",
        "    def train(self, inputs, targets):\n",
        "        # calculate the output of the network\n",
        "        outputs = self.forward(inputs)\n",
        "        \n",
        "        # calculate loss\n",
        "        loss = self.loss_function(outputs, targets)\n",
        "\n",
        "        # increase counter and accumulate error every 10\n",
        "        self.counter += 1;\n",
        "        if (self.counter % 10 == 0):\n",
        "            self.progress.append(loss.item())\n",
        "            pass\n",
        "        if (self.counter % 1000 == 0):\n",
        "            print(\"counter = \", self.counter)\n",
        "            pass\n",
        "\n",
        "        # zero gradients, perform a backward pass, update weights\n",
        "        self.optimiser.zero_grad()\n",
        "        loss.backward()\n",
        "        self.optimiser.step()\n",
        "\n",
        "        pass\n",
        "    \n",
        "    \n",
        "    def plot_progress(self):\n",
        "        df = pandas.DataFrame(self.progress, columns=['loss'])\n",
        "        df.plot(ylim=(0), figsize=(16,8), alpha=0.1, marker='.', grid=True, yticks=(0, 0.25, 0.5, 1.0, 5.0))\n",
        "        pass\n",
        "    \n",
        "    pass"
      ]
    },
    {
      "cell_type": "code",
      "execution_count": null,
      "metadata": {
        "colab": {
          "base_uri": "https://localhost:8080/",
          "height": 407
        },
        "id": "JnZp2Xzpik8R",
        "outputId": "2f4b223d-9d63-4148-8366-c1987d437429"
      },
      "outputs": [
        {
          "output_type": "stream",
          "name": "stdout",
          "text": [
            "CPU times: user 3 µs, sys: 1 µs, total: 4 µs\n",
            "Wall time: 8.58 µs\n"
          ]
        },
        {
          "output_type": "error",
          "ename": "KeyboardInterrupt",
          "evalue": "ignored",
          "traceback": [
            "\u001b[0;31m---------------------------------------------------------------------------\u001b[0m",
            "\u001b[0;31mKeyboardInterrupt\u001b[0m                         Traceback (most recent call last)",
            "\u001b[0;32m<ipython-input-11-e53ecfd653b3>\u001b[0m in \u001b[0;36m<module>\u001b[0;34m\u001b[0m\n\u001b[1;32m     10\u001b[0m     \u001b[0mD\u001b[0m\u001b[0;34m.\u001b[0m\u001b[0mtrain\u001b[0m\u001b[0;34m(\u001b[0m\u001b[0mimage_data_tensor\u001b[0m\u001b[0;34m,\u001b[0m \u001b[0mtorch\u001b[0m\u001b[0;34m.\u001b[0m\u001b[0mcuda\u001b[0m\u001b[0;34m.\u001b[0m\u001b[0mFloatTensor\u001b[0m\u001b[0;34m(\u001b[0m\u001b[0;34m[\u001b[0m\u001b[0;36m1.0\u001b[0m\u001b[0;34m]\u001b[0m\u001b[0;34m)\u001b[0m\u001b[0;34m)\u001b[0m\u001b[0;34m\u001b[0m\u001b[0;34m\u001b[0m\u001b[0m\n\u001b[1;32m     11\u001b[0m     \u001b[0;31m# fake data\u001b[0m\u001b[0;34m\u001b[0m\u001b[0;34m\u001b[0m\u001b[0;34m\u001b[0m\u001b[0m\n\u001b[0;32m---> 12\u001b[0;31m     \u001b[0mD\u001b[0m\u001b[0;34m.\u001b[0m\u001b[0mtrain\u001b[0m\u001b[0;34m(\u001b[0m\u001b[0mgenerate_random_image\u001b[0m\u001b[0;34m(\u001b[0m\u001b[0;34m(\u001b[0m\u001b[0;36m1\u001b[0m\u001b[0;34m,\u001b[0m\u001b[0;36m3\u001b[0m\u001b[0;34m,\u001b[0m\u001b[0;36m128\u001b[0m\u001b[0;34m,\u001b[0m\u001b[0;36m128\u001b[0m\u001b[0;34m)\u001b[0m\u001b[0;34m)\u001b[0m\u001b[0;34m,\u001b[0m \u001b[0mtorch\u001b[0m\u001b[0;34m.\u001b[0m\u001b[0mcuda\u001b[0m\u001b[0;34m.\u001b[0m\u001b[0mFloatTensor\u001b[0m\u001b[0;34m(\u001b[0m\u001b[0;34m[\u001b[0m\u001b[0;36m0.0\u001b[0m\u001b[0;34m]\u001b[0m\u001b[0;34m)\u001b[0m\u001b[0;34m)\u001b[0m\u001b[0;34m\u001b[0m\u001b[0;34m\u001b[0m\u001b[0m\n\u001b[0m\u001b[1;32m     13\u001b[0m     \u001b[0;32mpass\u001b[0m\u001b[0;34m\u001b[0m\u001b[0;34m\u001b[0m\u001b[0m\n",
            "\u001b[0;32m<ipython-input-10-780947c08b15>\u001b[0m in \u001b[0;36mtrain\u001b[0;34m(self, inputs, targets)\u001b[0m\n\u001b[1;32m     49\u001b[0m \u001b[0;34m\u001b[0m\u001b[0m\n\u001b[1;32m     50\u001b[0m         \u001b[0;31m# calculate loss\u001b[0m\u001b[0;34m\u001b[0m\u001b[0;34m\u001b[0m\u001b[0;34m\u001b[0m\u001b[0m\n\u001b[0;32m---> 51\u001b[0;31m         \u001b[0mloss\u001b[0m \u001b[0;34m=\u001b[0m \u001b[0mself\u001b[0m\u001b[0;34m.\u001b[0m\u001b[0mloss_function\u001b[0m\u001b[0;34m(\u001b[0m\u001b[0moutputs\u001b[0m\u001b[0;34m,\u001b[0m \u001b[0mtargets\u001b[0m\u001b[0;34m)\u001b[0m\u001b[0;34m\u001b[0m\u001b[0;34m\u001b[0m\u001b[0m\n\u001b[0m\u001b[1;32m     52\u001b[0m \u001b[0;34m\u001b[0m\u001b[0m\n\u001b[1;32m     53\u001b[0m         \u001b[0;31m# increase counter and accumulate error every 10\u001b[0m\u001b[0;34m\u001b[0m\u001b[0;34m\u001b[0m\u001b[0;34m\u001b[0m\u001b[0m\n",
            "\u001b[0;32m/usr/local/lib/python3.7/dist-packages/torch/nn/modules/module.py\u001b[0m in \u001b[0;36m_call_impl\u001b[0;34m(self, *input, **kwargs)\u001b[0m\n\u001b[1;32m   1128\u001b[0m         if not (self._backward_hooks or self._forward_hooks or self._forward_pre_hooks or _global_backward_hooks\n\u001b[1;32m   1129\u001b[0m                 or _global_forward_hooks or _global_forward_pre_hooks):\n\u001b[0;32m-> 1130\u001b[0;31m             \u001b[0;32mreturn\u001b[0m \u001b[0mforward_call\u001b[0m\u001b[0;34m(\u001b[0m\u001b[0;34m*\u001b[0m\u001b[0minput\u001b[0m\u001b[0;34m,\u001b[0m \u001b[0;34m**\u001b[0m\u001b[0mkwargs\u001b[0m\u001b[0;34m)\u001b[0m\u001b[0;34m\u001b[0m\u001b[0;34m\u001b[0m\u001b[0m\n\u001b[0m\u001b[1;32m   1131\u001b[0m         \u001b[0;31m# Do not call functions when jit is used\u001b[0m\u001b[0;34m\u001b[0m\u001b[0;34m\u001b[0m\u001b[0;34m\u001b[0m\u001b[0m\n\u001b[1;32m   1132\u001b[0m         \u001b[0mfull_backward_hooks\u001b[0m\u001b[0;34m,\u001b[0m \u001b[0mnon_full_backward_hooks\u001b[0m \u001b[0;34m=\u001b[0m \u001b[0;34m[\u001b[0m\u001b[0;34m]\u001b[0m\u001b[0;34m,\u001b[0m \u001b[0;34m[\u001b[0m\u001b[0;34m]\u001b[0m\u001b[0;34m\u001b[0m\u001b[0;34m\u001b[0m\u001b[0m\n",
            "\u001b[0;32m/usr/local/lib/python3.7/dist-packages/torch/nn/modules/loss.py\u001b[0m in \u001b[0;36mforward\u001b[0;34m(self, input, target)\u001b[0m\n\u001b[1;32m    611\u001b[0m \u001b[0;34m\u001b[0m\u001b[0m\n\u001b[1;32m    612\u001b[0m     \u001b[0;32mdef\u001b[0m \u001b[0mforward\u001b[0m\u001b[0;34m(\u001b[0m\u001b[0mself\u001b[0m\u001b[0;34m,\u001b[0m \u001b[0minput\u001b[0m\u001b[0;34m:\u001b[0m \u001b[0mTensor\u001b[0m\u001b[0;34m,\u001b[0m \u001b[0mtarget\u001b[0m\u001b[0;34m:\u001b[0m \u001b[0mTensor\u001b[0m\u001b[0;34m)\u001b[0m \u001b[0;34m->\u001b[0m \u001b[0mTensor\u001b[0m\u001b[0;34m:\u001b[0m\u001b[0;34m\u001b[0m\u001b[0;34m\u001b[0m\u001b[0m\n\u001b[0;32m--> 613\u001b[0;31m         \u001b[0;32mreturn\u001b[0m \u001b[0mF\u001b[0m\u001b[0;34m.\u001b[0m\u001b[0mbinary_cross_entropy\u001b[0m\u001b[0;34m(\u001b[0m\u001b[0minput\u001b[0m\u001b[0;34m,\u001b[0m \u001b[0mtarget\u001b[0m\u001b[0;34m,\u001b[0m \u001b[0mweight\u001b[0m\u001b[0;34m=\u001b[0m\u001b[0mself\u001b[0m\u001b[0;34m.\u001b[0m\u001b[0mweight\u001b[0m\u001b[0;34m,\u001b[0m \u001b[0mreduction\u001b[0m\u001b[0;34m=\u001b[0m\u001b[0mself\u001b[0m\u001b[0;34m.\u001b[0m\u001b[0mreduction\u001b[0m\u001b[0;34m)\u001b[0m\u001b[0;34m\u001b[0m\u001b[0;34m\u001b[0m\u001b[0m\n\u001b[0m\u001b[1;32m    614\u001b[0m \u001b[0;34m\u001b[0m\u001b[0m\n\u001b[1;32m    615\u001b[0m \u001b[0;34m\u001b[0m\u001b[0m\n",
            "\u001b[0;32m/usr/local/lib/python3.7/dist-packages/torch/nn/functional.py\u001b[0m in \u001b[0;36mbinary_cross_entropy\u001b[0;34m(input, target, weight, size_average, reduce, reduction)\u001b[0m\n\u001b[1;32m   3081\u001b[0m         \u001b[0mweight\u001b[0m \u001b[0;34m=\u001b[0m \u001b[0mweight\u001b[0m\u001b[0;34m.\u001b[0m\u001b[0mexpand\u001b[0m\u001b[0;34m(\u001b[0m\u001b[0mnew_size\u001b[0m\u001b[0;34m)\u001b[0m\u001b[0;34m\u001b[0m\u001b[0;34m\u001b[0m\u001b[0m\n\u001b[1;32m   3082\u001b[0m \u001b[0;34m\u001b[0m\u001b[0m\n\u001b[0;32m-> 3083\u001b[0;31m     \u001b[0;32mreturn\u001b[0m \u001b[0mtorch\u001b[0m\u001b[0;34m.\u001b[0m\u001b[0m_C\u001b[0m\u001b[0;34m.\u001b[0m\u001b[0m_nn\u001b[0m\u001b[0;34m.\u001b[0m\u001b[0mbinary_cross_entropy\u001b[0m\u001b[0;34m(\u001b[0m\u001b[0minput\u001b[0m\u001b[0;34m,\u001b[0m \u001b[0mtarget\u001b[0m\u001b[0;34m,\u001b[0m \u001b[0mweight\u001b[0m\u001b[0;34m,\u001b[0m \u001b[0mreduction_enum\u001b[0m\u001b[0;34m)\u001b[0m\u001b[0;34m\u001b[0m\u001b[0;34m\u001b[0m\u001b[0m\n\u001b[0m\u001b[1;32m   3084\u001b[0m \u001b[0;34m\u001b[0m\u001b[0m\n\u001b[1;32m   3085\u001b[0m \u001b[0;34m\u001b[0m\u001b[0m\n",
            "\u001b[0;31mKeyboardInterrupt\u001b[0m: "
          ]
        }
      ],
      "source": [
        "%time\n",
        "# test discriminator can separate real data from random noise\n",
        "\n",
        "D = Discriminator()\n",
        "# move model to cuda device\n",
        "D.to(device)\n",
        "\n",
        "for image_data_tensor in celeba_dataset:\n",
        "    # real data\n",
        "    D.train(image_data_tensor, torch.cuda.FloatTensor([1.0]))\n",
        "    # fake data\n",
        "    D.train(generate_random_image((1,3,128,128)), torch.cuda.FloatTensor([0.0]))\n",
        "    pass"
      ]
    },
    {
      "cell_type": "code",
      "execution_count": null,
      "metadata": {
        "id": "1idvcJbnkSxa"
      },
      "outputs": [],
      "source": [
        "# plot discriminator loss\n",
        "\n",
        "D.plot_progress()"
      ]
    },
    {
      "cell_type": "code",
      "execution_count": null,
      "metadata": {
        "id": "TSAxgPtNkVn3"
      },
      "outputs": [],
      "source": [
        "# manually run discriminator to check it can tell real data from fake\n",
        "\n",
        "for i in range(4):\n",
        "  image_data_tensor = celeba_dataset[random.randint(0,20000)]\n",
        "  print( D.forward( image_data_tensor ).item() )\n",
        "  pass\n",
        "\n",
        "for i in range(4):\n",
        "  print( D.forward( generate_random_image((1,3,128,128))).item() )\n",
        "  pass\n",
        "b"
      ]
    },
    {
      "cell_type": "code",
      "execution_count": null,
      "metadata": {
        "id": "u_Acn4Rqkd71"
      },
      "outputs": [],
      "source": [
        "# generator class\n",
        "\n",
        "class Generator(nn.Module):\n",
        "    \n",
        "    def __init__(self):\n",
        "        # initialise parent pytorch class\n",
        "        super().__init__()\n",
        "        \n",
        "        # define neural network layers\n",
        "        self.model = nn.Sequential(\n",
        "            # input is a 1d array\n",
        "            nn.Linear(100, 3*11*11),\n",
        "            nn.LeakyReLU(0.2),\n",
        "            \n",
        "            # reshape to 4d\n",
        "            View((1, 3, 11, 11)),\n",
        "            \n",
        "            nn.ConvTranspose2d(3, 256, kernel_size=8, stride=2),\n",
        "            nn.BatchNorm2d(256),\n",
        "            nn.LeakyReLU(0.2),\n",
        "\n",
        "            nn.ConvTranspose2d(256, 256, kernel_size=8, stride=2),\n",
        "            nn.BatchNorm2d(256),\n",
        "            nn.LeakyReLU(0.2),\n",
        "\n",
        "            nn.ConvTranspose2d(256, 3, kernel_size=8, stride=2, padding=1),\n",
        "            nn.BatchNorm2d(3),\n",
        "            \n",
        "            # output should be (1,3,128,128)\n",
        "            nn.Sigmoid()\n",
        "        )\n",
        "        \n",
        "        # create optimiser, simple stochastic gradient descent\n",
        "        self.optimiser = torch.optim.Adam(self.parameters(), lr=0.0001, capturable = True)\n",
        "\n",
        "        # counter and accumulator for progress\n",
        "        self.counter = 0;\n",
        "        self.progress = []\n",
        "        \n",
        "        pass\n",
        "    \n",
        "    \n",
        "    def forward(self, inputs):        \n",
        "        # simply run model\n",
        "        return self.model(inputs)\n",
        "    \n",
        "    \n",
        "    def train(self, D, inputs, targets):\n",
        "        # calculate the output of the network\n",
        "        g_output = self.forward(inputs)\n",
        "        \n",
        "        # pass onto Discriminator\n",
        "        d_output = D.forward(g_output)\n",
        "        \n",
        "        # calculate error\n",
        "        loss = D.loss_function(d_output, targets)\n",
        "\n",
        "        # increase counter and accumulate error every 10\n",
        "        self.counter += 1;\n",
        "        if (self.counter % 10 == 0):\n",
        "            self.progress.append(loss.item())\n",
        "            pass\n",
        "\n",
        "        # zero gradients, perform a backward pass, update weights\n",
        "        self.optimiser.zero_grad()\n",
        "        loss.backward()\n",
        "        self.optimiser.step()\n",
        "\n",
        "        pass\n",
        "    \n",
        "    \n",
        "    def plot_progress(self):\n",
        "        df = pandas.DataFrame(self.progress, columns=['loss'])\n",
        "        df.plot(ylim=(0), figsize=(16,8), alpha=0.1, marker='.', grid=True, yticks=(0, 0.25, 0.5, 1.0, 5.0))\n",
        "        pass\n",
        "    \n",
        "    pass\n"
      ]
    },
    {
      "cell_type": "code",
      "execution_count": null,
      "metadata": {
        "id": "MOOSjrsokkGt"
      },
      "outputs": [],
      "source": [
        "# check the generator output is of the right type and shape\n",
        "\n",
        "G = Generator()\n",
        "# move model to cuda device\n",
        "G.to(device)\n",
        "\n",
        "output = G.forward(generate_random_seed(100))\n",
        "\n",
        "img = output.detach().permute(0,2,3,1).view(128,128,3).cpu().numpy()\n",
        "\n",
        "plt.imshow(img, interpolation='none', cmap='Blues')"
      ]
    },
    {
      "cell_type": "code",
      "execution_count": null,
      "metadata": {
        "id": "DtJNOcg4koUE"
      },
      "outputs": [],
      "source": [
        "%time \n",
        "\n",
        "# create Discriminator and Generator\n",
        "\n",
        "D = Discriminator()\n",
        "G = Generator()\n",
        "D.to(device)\n",
        "G.to(device)\n",
        "\n",
        "epochs = 1\n",
        "\n",
        "for epoch in range(epochs):\n",
        "  print (\"epoch = \", epoch + 1)\n",
        "\n",
        "  # train Discriminator and Generator\n",
        "\n",
        "  for image_data_tensor in celeba_dataset:\n",
        "    # train discriminator on true\n",
        "    D.train(image_data_tensor, torch.cuda.FloatTensor([1.0]))\n",
        "    \n",
        "    # train discriminator on false\n",
        "    # use detach() so gradients in G are not calculated\n",
        "    D.train(G.forward(generate_random_seed(100)).detach(), torch.cuda.FloatTensor([0.0]))\n",
        "    \n",
        "    # train generator\n",
        "    G.train(D, generate_random_seed(100), torch.cuda.FloatTensor([1.0]))\n",
        "\n",
        "    pass\n",
        "    \n",
        "  pass"
      ]
    },
    {
      "cell_type": "code",
      "execution_count": null,
      "metadata": {
        "id": "gGktsKT4kozk"
      },
      "outputs": [],
      "source": [
        "# plot discriminator error\n",
        "\n",
        "D.plot_progress()\n"
      ]
    },
    {
      "cell_type": "code",
      "execution_count": null,
      "metadata": {
        "id": "ckefMSndkq1e"
      },
      "outputs": [],
      "source": [
        "# plot generator error\n",
        "\n",
        "G.plot_progress()"
      ]
    },
    {
      "cell_type": "code",
      "execution_count": null,
      "metadata": {
        "id": "isquqLVuksnH"
      },
      "outputs": [],
      "source": [
        "# plot several outputs from the trained generator\n",
        "\n",
        "# plot a 3 column, 2 row array of generated images\n",
        "f, axarr = plt.subplots(2,3, figsize=(16,8))\n",
        "for i in range(2):\n",
        "    for j in range(3):\n",
        "        output = G.forward(generate_random_seed(100))\n",
        "        img = output.detach().permute(0,2,3,1).view(128,128,3).cpu().numpy()\n",
        "        axarr[i,j].imshow(img, interpolation='none', cmap='Blues')\n",
        "        pass\n",
        "    pass"
      ]
    },
    {
      "cell_type": "code",
      "execution_count": null,
      "metadata": {
        "id": "3nk_e9y-kvHk"
      },
      "outputs": [],
      "source": [
        "# current memory allocated to tensors (in Gb)\n",
        "\n",
        "torch.cuda.memory_allocated(device) / (1024*1024*1024)"
      ]
    },
    {
      "cell_type": "code",
      "execution_count": null,
      "metadata": {
        "id": "T6luMYaikxWc"
      },
      "outputs": [],
      "source": [
        "# total memory allocated to tensors during program (in Gb)\n",
        "\n",
        "torch.cuda.max_memory_allocated(device) / (1024*1024*1024)"
      ]
    },
    {
      "cell_type": "code",
      "execution_count": null,
      "metadata": {
        "id": "E6Ho50rhoBxM"
      },
      "outputs": [],
      "source": []
    },
    {
      "cell_type": "markdown",
      "metadata": {
        "id": "GrOp4qJ2oLZr"
      },
      "source": [
        "GELU사용 epoch : 1"
      ]
    },
    {
      "cell_type": "code",
      "execution_count": null,
      "metadata": {
        "id": "6WDq4XimoOPR"
      },
      "outputs": [],
      "source": [
        "# generator class\n",
        "\n",
        "class Generator(nn.Module):\n",
        "    \n",
        "    def __init__(self):\n",
        "        # initialise parent pytorch class\n",
        "        super().__init__()\n",
        "        \n",
        "        # define neural network layers\n",
        "        self.model = nn.Sequential(\n",
        "            # input is a 1d array\n",
        "            nn.Linear(100, 3*11*11),\n",
        "            nn.GELU(),\n",
        "            \n",
        "            # reshape to 4d\n",
        "            View((1, 3, 11, 11)),\n",
        "            \n",
        "            nn.ConvTranspose2d(3, 256, kernel_size=8, stride=2),\n",
        "            nn.BatchNorm2d(256),\n",
        "            nn.GELU(),\n",
        "\n",
        "            nn.ConvTranspose2d(256, 256, kernel_size=8, stride=2),\n",
        "            nn.BatchNorm2d(256),\n",
        "            nn.GELU(),\n",
        "\n",
        "            nn.ConvTranspose2d(256, 3, kernel_size=8, stride=2, padding=1),\n",
        "            nn.BatchNorm2d(3),\n",
        "            \n",
        "            # output should be (1,3,128,128)\n",
        "            nn.Sigmoid()\n",
        "        )\n",
        "        \n",
        "        # create optimiser, simple stochastic gradient descent\n",
        "        self.optimiser = torch.optim.Adam(self.parameters(), lr=0.0001, capturable = True)\n",
        "\n",
        "        # counter and accumulator for progress\n",
        "        self.counter = 0;\n",
        "        self.progress = []\n",
        "        \n",
        "        pass\n",
        "    \n",
        "    \n",
        "    def forward(self, inputs):        \n",
        "        # simply run model\n",
        "        return self.model(inputs)\n",
        "    \n",
        "    \n",
        "    def train(self, D, inputs, targets):\n",
        "        # calculate the output of the network\n",
        "        g_output = self.forward(inputs)\n",
        "        \n",
        "        # pass onto Discriminator\n",
        "        d_output = D.forward(g_output)\n",
        "        \n",
        "        # calculate error\n",
        "        loss = D.loss_function(d_output, targets)\n",
        "\n",
        "        # increase counter and accumulate error every 10\n",
        "        self.counter += 1;\n",
        "        if (self.counter % 10 == 0):\n",
        "            self.progress.append(loss.item())\n",
        "            pass\n",
        "\n",
        "        # zero gradients, perform a backward pass, update weights\n",
        "        self.optimiser.zero_grad()\n",
        "        loss.backward()\n",
        "        self.optimiser.step()\n",
        "\n",
        "        pass\n",
        "    \n",
        "    \n",
        "    def plot_progress(self):\n",
        "        df = pandas.DataFrame(self.progress, columns=['loss'])\n",
        "        df.plot(ylim=(0), figsize=(16,8), alpha=0.1, marker='.', grid=True, yticks=(0, 0.25, 0.5, 1.0, 5.0))\n",
        "        pass\n",
        "    \n",
        "    pass\n"
      ]
    },
    {
      "cell_type": "code",
      "execution_count": null,
      "metadata": {
        "id": "xo6mKAw9oXoc"
      },
      "outputs": [],
      "source": [
        "%time \n",
        "\n",
        "# create Discriminator and Generator\n",
        "\n",
        "D1 = Discriminator()\n",
        "G1 = Generator()\n",
        "D1.to(device)\n",
        "G1.to(device)\n",
        "\n",
        "epochs = 1\n",
        "\n",
        "for epoch in range(epochs):\n",
        "  print (\"epoch = \", epoch + 1)\n",
        "\n",
        "  # train Discriminator and Generator\n",
        "\n",
        "  for image_data_tensor in celeba_dataset:\n",
        "    # train discriminator on true\n",
        "    D1.train(image_data_tensor, torch.cuda.FloatTensor([1.0]))\n",
        "    \n",
        "    # train discriminator on false\n",
        "    # use detach() so gradients in G are not calculated\n",
        "    D1.train(G1.forward(generate_random_seed(100)).detach(), torch.cuda.FloatTensor([0.0]))\n",
        "    \n",
        "    # train generator\n",
        "    G1.train(D1, generate_random_seed(100), torch.cuda.FloatTensor([1.0]))\n",
        "\n",
        "    pass\n",
        "    \n",
        "  pass"
      ]
    },
    {
      "cell_type": "code",
      "execution_count": null,
      "metadata": {
        "id": "8C-u2Pf7ogJg"
      },
      "outputs": [],
      "source": [
        "# plot discriminator error\n",
        "\n",
        "D1.plot_progress()\n"
      ]
    },
    {
      "cell_type": "code",
      "execution_count": null,
      "metadata": {
        "id": "sYdHnO9toi2L"
      },
      "outputs": [],
      "source": [
        "# plot generator error\n",
        "\n",
        "G1.plot_progress()"
      ]
    },
    {
      "cell_type": "code",
      "execution_count": null,
      "metadata": {
        "id": "x1-K8LfpolAV"
      },
      "outputs": [],
      "source": [
        "# plot several outputs from the trained generator\n",
        "\n",
        "# plot a 3 column, 2 row array of generated images\n",
        "f, axarr = plt.subplots(2,3, figsize=(16,8))\n",
        "for i in range(2):\n",
        "    for j in range(3):\n",
        "        output = G.forward(generate_random_seed(100))\n",
        "        img = output.detach().permute(0,2,3,1).view(128,128,3).cpu().numpy()\n",
        "        axarr[i,j].imshow(img, interpolation='none', cmap='Blues')\n",
        "        pass\n",
        "    pass"
      ]
    },
    {
      "cell_type": "code",
      "execution_count": null,
      "metadata": {
        "id": "7qmxHIhrsDT2"
      },
      "outputs": [],
      "source": [
        "%time \n",
        "\n",
        "# create Discriminator and Generator\n",
        "\n",
        "D2 = Discriminator()\n",
        "G2 = Generator()\n",
        "D2.to(device)\n",
        "G2.to(device)\n",
        "\n",
        "epochs = 10\n",
        "\n",
        "for epoch in range(epochs):\n",
        "  print (\"epoch = \", epoch + 1)\n",
        "\n",
        "  # train Discriminator and Generator\n",
        "\n",
        "  for image_data_tensor in celeba_dataset:\n",
        "    # train discriminator on true\n",
        "    D2.train(image_data_tensor, torch.cuda.FloatTensor([1.0]))\n",
        "    \n",
        "    # train discriminator on false\n",
        "    # use detach() so gradients in G are not calculated\n",
        "    D2.train(G2.forward(generate_random_seed(100)).detach(), torch.cuda.FloatTensor([0.0]))\n",
        "    \n",
        "    # train generator\n",
        "    G2.train(D2, generate_random_seed(100), torch.cuda.FloatTensor([1.0]))\n",
        "\n",
        "    pass\n",
        "    \n",
        "  pass"
      ]
    },
    {
      "cell_type": "code",
      "execution_count": null,
      "metadata": {
        "id": "X66QoIBu81W0"
      },
      "outputs": [],
      "source": []
    },
    {
      "cell_type": "code",
      "execution_count": null,
      "metadata": {
        "id": "xfhluLTAsLhw"
      },
      "outputs": [],
      "source": [
        "# plot discriminator error\n",
        "\n",
        "D2.plot_progress()"
      ]
    },
    {
      "cell_type": "code",
      "execution_count": null,
      "metadata": {
        "id": "lXy9Ol3esNKx"
      },
      "outputs": [],
      "source": [
        "# plot generator error\n",
        "\n",
        "G2.plot_progress()"
      ]
    },
    {
      "cell_type": "code",
      "execution_count": null,
      "metadata": {
        "id": "2saDoj8GsOe6"
      },
      "outputs": [],
      "source": [
        "# plot several outputs from the trained generator\n",
        "\n",
        "# plot a 3 column, 2 row array of generated images\n",
        "f, axarr = plt.subplots(2,3, figsize=(16,8))\n",
        "for i in range(2):\n",
        "    for j in range(3):\n",
        "        output = G2.forward(generate_random_seed(100))\n",
        "        img = output.detach().permute(0,2,3,1).view(128,128,3).cpu().numpy()\n",
        "        axarr[i,j].imshow(img, interpolation='none', cmap='Blues')\n",
        "        pass\n",
        "    pass"
      ]
    },
    {
      "cell_type": "code",
      "source": [
        "%time \n",
        "\n",
        "# create Discriminator and Generator\n",
        "\n",
        "D3 = Discriminator()\n",
        "G3 = Generator()\n",
        "D3.to(device)\n",
        "G3.to(device)\n",
        "\n",
        "epochs = 15\n",
        "\n",
        "for epoch in range(epochs):\n",
        "  print (\"epoch = \", epoch + 1)\n",
        "\n",
        "  # train Discriminator and Generator\n",
        "\n",
        "  for image_data_tensor in celeba_dataset:\n",
        "    # train discriminator on true\n",
        "    D3.train(image_data_tensor, torch.cuda.FloatTensor([1.0]))\n",
        "    \n",
        "    # train discriminator on false\n",
        "    # use detach() so gradients in G are not calculated\n",
        "    D3.train(G3.forward(generate_random_seed(100)).detach(), torch.cuda.FloatTensor([0.0]))\n",
        "    \n",
        "    # train generator\n",
        "    G3.train(D3, generate_random_seed(100), torch.cuda.FloatTensor([1.0]))\n",
        "\n",
        "    pass\n",
        "    \n",
        "  pass"
      ],
      "metadata": {
        "id": "PDJz6dtj5ozr"
      },
      "execution_count": null,
      "outputs": []
    },
    {
      "cell_type": "code",
      "source": [
        "# plot discriminator error\n",
        "\n",
        "D3.plot_progress()"
      ],
      "metadata": {
        "id": "RqFQ5CA55thJ"
      },
      "execution_count": null,
      "outputs": []
    },
    {
      "cell_type": "code",
      "source": [
        "# plot generator error\n",
        "\n",
        "G3.plot_progress()"
      ],
      "metadata": {
        "id": "KHm5tG-I5zMt"
      },
      "execution_count": null,
      "outputs": []
    },
    {
      "cell_type": "code",
      "source": [
        "# plot several outputs from the trained generator\n",
        "\n",
        "# plot a 3 column, 2 row array of generated images\n",
        "f, axarr = plt.subplots(2,3, figsize=(16,8))\n",
        "for i in range(2):\n",
        "    for j in range(3):\n",
        "        output = G3.forward(generate_random_seed(100))\n",
        "        img = output.detach().permute(0,2,3,1).view(128,128,3).cpu().numpy()\n",
        "        axarr[i,j].imshow(img, interpolation='none', cmap='Blues')\n",
        "        pass\n",
        "    pass"
      ],
      "metadata": {
        "id": "SOHKay6C513y"
      },
      "execution_count": null,
      "outputs": []
    }
  ],
  "metadata": {
    "accelerator": "GPU",
    "colab": {
      "provenance": []
    },
    "gpuClass": "standard",
    "kernelspec": {
      "display_name": "Python 3",
      "name": "python3"
    },
    "language_info": {
      "name": "python"
    }
  },
  "nbformat": 4,
  "nbformat_minor": 0
}