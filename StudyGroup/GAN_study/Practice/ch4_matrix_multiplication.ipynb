{
  "cells": [
    {
      "cell_type": "code",
      "execution_count": null,
      "metadata": {
        "colab": {
          "base_uri": "https://localhost:8080/"
        },
        "id": "rriNyD4urLbl",
        "outputId": "9f602e83-8484-4be5-f6eb-483f2554e575"
      },
      "outputs": [
        {
          "data": {
            "text/plain": [
              "array([[0.53775868, 0.62337885, 0.765051  , ..., 0.96415211, 0.30342175,\n",
              "        0.53209275],\n",
              "       [0.30504926, 0.6970709 , 0.78033569, ..., 0.70657634, 0.79432622,\n",
              "        0.14833599],\n",
              "       [0.30264371, 0.9746152 , 0.59681824, ..., 0.02739628, 0.61894716,\n",
              "        0.09144   ],\n",
              "       ...,\n",
              "       [0.40030324, 0.4460476 , 0.7419191 , ..., 0.25014551, 0.74499512,\n",
              "        0.69656995],\n",
              "       [0.18953224, 0.56976915, 0.81836069, ..., 0.9264023 , 0.48189451,\n",
              "        0.22098496],\n",
              "       [0.86177873, 0.22271234, 0.46416097, ..., 0.87665326, 0.27645296,\n",
              "        0.51477228]])"
            ]
          },
          "execution_count": 3,
          "metadata": {},
          "output_type": "execute_result"
        }
      ],
      "source": [
        "import torch\n",
        "import numpy as np\n",
        "\n",
        "# compare numpy with python\n",
        "\n",
        "# size of square matrix\n",
        "size = 600\n",
        "\n",
        "a = np.random.rand(size,size)\n",
        "b = np.random.rand(size,size)"
      ]
    },
    {
      "cell_type": "code",
      "execution_count": null,
      "metadata": {
        "colab": {
          "base_uri": "https://localhost:8080/"
        },
        "id": "6aEHcov9rkeI",
        "outputId": "3ffc503c-5da1-4b9f-8065-4667b14f8655"
      },
      "outputs": [
        {
          "name": "stdout",
          "output_type": "stream",
          "text": [
            "100 loops, best of 5: 13.5 ms per loop\n"
          ]
        }
      ],
      "source": [
        "%%timeit\n",
        "\n",
        "# 두 행렬 곱하기\n",
        "x = np.dot(a,b)"
      ]
    },
    {
      "cell_type": "code",
      "execution_count": null,
      "metadata": {
        "colab": {
          "background_save": true
        },
        "id": "ea49e3Dxrt5W",
        "outputId": "e545a28a-e916-412c-f5f6-f9662f604ec1"
      },
      "outputs": [
        {
          "name": "stdout",
          "output_type": "stream",
          "text": [
            "1 loop, best of 5: 2min 25s per loop\n"
          ]
        }
      ],
      "source": [
        "%%timeit\n",
        "\n",
        "c = np.zeros((size,size))\n",
        "\n",
        "for i in range(size):\n",
        "  for j in range(size):\n",
        "    for k in range(size):\n",
        "      c[i,j] += a[i,k]*b[k,j]\n",
        "    pass\n",
        "  pass"
      ]
    }
  ],
  "metadata": {
    "colab": {
      "provenance": []
    },
    "kernelspec": {
      "display_name": "Python 3",
      "name": "python3"
    },
    "language_info": {
      "name": "python"
    }
  },
  "nbformat": 4,
  "nbformat_minor": 0
}